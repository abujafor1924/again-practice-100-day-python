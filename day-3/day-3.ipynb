{
 "cells": [
  {
   "cell_type": "code",
   "id": "initial_id",
   "metadata": {
    "collapsed": true,
    "ExecuteTime": {
     "end_time": "2025-07-02T01:58:12.690797Z",
     "start_time": "2025-07-02T01:58:10.319347Z"
    }
   },
   "source": [
    "\n",
    "age=int(input(\"Enter your age: \"))\n",
    "\n",
    "if age > 10:\n",
    "    print(\"You do bea\")\n",
    "else:\n",
    "    print(\"You do not do bea\")"
   ],
   "outputs": [
    {
     "name": "stdout",
     "output_type": "stream",
     "text": [
      "You do not do bea\n"
     ]
    }
   ],
   "execution_count": 7
  },
  {
   "metadata": {
    "ExecuteTime": {
     "end_time": "2025-07-02T02:04:12.067540Z",
     "start_time": "2025-07-02T02:04:09.265625Z"
    }
   },
   "cell_type": "code",
   "source": [
    "number_to_check=int(input(\"Enter your number: \"))\n",
    "\n",
    "if number_to_check % 2 == 0 :\n",
    "    print(f\"{number_to_check} are even number\")\n",
    "else:\n",
    "    print(f\"{number_to_check} are odd number\")"
   ],
   "id": "23d68e415b2b25a0",
   "outputs": [
    {
     "name": "stdout",
     "output_type": "stream",
     "text": [
      "9 are odd number\n"
     ]
    }
   ],
   "execution_count": 10
  },
  {
   "metadata": {
    "ExecuteTime": {
     "end_time": "2025-07-02T02:11:38.132779Z",
     "start_time": "2025-07-02T02:11:34.734376Z"
    }
   },
   "cell_type": "code",
   "source": [
    "bus_passengers_rente=int(input(\"Enter your bus passengers age: \"))\n",
    "\n",
    "if bus_passengers_rente > 18 :\n",
    "    print(f\"{bus_passengers_rente} Full bara\")\n",
    "elif bus_passengers_rente > 5 :\n",
    "    print(f\"{bus_passengers_rente} half bara\")\n",
    "else:\n",
    "    print(f\"{bus_passengers_rente} no bara\")\n"
   ],
   "id": "695230134723060",
   "outputs": [
    {
     "name": "stdout",
     "output_type": "stream",
     "text": [
      "56 Full bara\n"
     ]
    }
   ],
   "execution_count": 12
  }
 ],
 "metadata": {
  "kernelspec": {
   "display_name": "Python 3",
   "language": "python",
   "name": "python3"
  },
  "language_info": {
   "codemirror_mode": {
    "name": "ipython",
    "version": 2
   },
   "file_extension": ".py",
   "mimetype": "text/x-python",
   "name": "python",
   "nbconvert_exporter": "python",
   "pygments_lexer": "ipython2",
   "version": "2.7.6"
  }
 },
 "nbformat": 4,
 "nbformat_minor": 5
}
